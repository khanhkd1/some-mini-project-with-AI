{
  "cells": [
    {
      "cell_type": "markdown",
      "source": [
        "#Dataset\n",
        "https://www.cryptodatadownload.com/data/bitfinex/\n",
        "\n",
        "- Unix Timestamp - This is the unix timestamp or also known as \"Epoch Time\". Use this to convert to your local timezone \\\n",
        "- Date - This timestamp is converted to NY EST Standard Time \\\n",
        "- Symbol - The symbol for which the timeseries data refers \\\n",
        "- Open - This is the opening price of the time period \\\n",
        "- High - This is the highest price of the time period \\\n",
        "- Low - This is the lowest price of the time period \\\n",
        "- Close - This is the closing price of the time period \\\n",
        "- Volume (Crypto) - This is the volume in the transacted Ccy. Ie. For BTC/USD, this is in BTC amount \\\n",
        "- Volume Base Ccy - This is the volume in the base/converted ccy. Ie. For BTC/USD, this is in USD amount"
      ],
      "metadata": {
        "id": "WFyuMZDtevyw"
      }
    },
    {
      "cell_type": "markdown",
      "source": [
        "#Deep Learning Model\n",
        "##RNN Model\n",
        "![](https://i1.wp.com/nttuan8.com/wp-content/uploads/2019/05/loss.png?w=1025&ssl=1)\n",
        "\n",
        "##LSTM Model\n",
        "![](https://i2.wp.com/nttuan8.com/wp-content/uploads/2019/06/lstm.png?w=1003&ssl=1)\n",
        "\n",
        "##Input format\n",
        "![](https://4.bp.blogspot.com/-duOcCEd9DJU/XMSJD6kzDJI/AAAAAAAAqd4/xlbs2_fbw248QJGkahI5IJJeOHEMBJKdwCLcBGAs/s1600/nn2.png)\n",
        "\n",
        "##Dataset\n",
        "data = [1,2,3,4,5,6,7,8,9,10,11,12]\n",
        "\n",
        "timesteps = 3\n",
        "\n",
        "###Input data\n",
        "\n",
        "| X      | y |\n",
        "| ----------- | ----------- |\n",
        "| 1, 2, 3      | 4       |\n",
        "| 2, 3, 4   | 5        |\n",
        "| 3, 4, 5   | 6        |\n",
        "| 4, 5, 6   | 7        |\n",
        "| ... | ... |\n",
        "\n"
      ],
      "metadata": {
        "id": "NVvTeL33oO1C"
      }
    },
    {
      "cell_type": "code",
      "execution_count": null,
      "metadata": {
        "id": "P-w2zgLexUsH"
      },
      "outputs": [],
      "source": [
        "import numpy as np\n",
        "import pandas as pd\n",
        "import matplotlib.pyplot as plt\n",
        "\n",
        "from sklearn.preprocessing import MinMaxScaler\n",
        "from sklearn.metrics import mean_squared_error\n",
        "\n",
        "import keras\n",
        "from keras.models import Sequential\n",
        "from keras.layers import Dense\n",
        "from keras.layers import LSTM\n",
        "from keras.layers import Dropout"
      ]
    },
    {
      "cell_type": "markdown",
      "metadata": {
        "id": "X29McnDit8NB"
      },
      "source": [
        "#Configure"
      ]
    },
    {
      "cell_type": "code",
      "execution_count": null,
      "metadata": {
        "id": "s9vqUodQt_yv"
      },
      "outputs": [],
      "source": [
        "train_size_percent = 0.80\n",
        "n_step = 24*60 # 24h * 30 days\n",
        "lstm_layers = 50\n",
        "epochs=10\n",
        "batch_size=32"
      ]
    },
    {
      "cell_type": "markdown",
      "metadata": {
        "id": "l8gEnk-Hzjgt"
      },
      "source": [
        "#Đọc dữ liệu thô\n",
        "\n"
      ]
    },
    {
      "cell_type": "code",
      "execution_count": null,
      "metadata": {
        "colab": {
          "base_uri": "https://localhost:8080/"
        },
        "id": "J46hTptSx3LL",
        "outputId": "88792cd3-dc14-4591-bb8a-0c3495ed722c"
      },
      "outputs": [
        {
          "output_type": "stream",
          "name": "stdout",
          "text": [
            "Kiểu dữ liệu: \n",
            "unix          float64\n",
            "date           object\n",
            "symbol         object\n",
            "open          float64\n",
            "high          float64\n",
            "low           float64\n",
            "close         float64\n",
            "Volume USD    float64\n",
            "Volume BTC    float64\n",
            "dtype: object\n",
            "-------------------------------------------------------------------------\n",
            "Đếm số dòng dữ liệu bị null: \n",
            "unix          0\n",
            "date          0\n",
            "symbol        0\n",
            "open          0\n",
            "high          0\n",
            "low           0\n",
            "close         0\n",
            "Volume USD    0\n",
            "Volume BTC    0\n",
            "dtype: int64\n",
            "-------------------------------------------------------------------------\n",
            "Dữ liệu: \n",
            "               unix           date   symbol         open        high      low  \\\n",
            "0      1.650850e+12  4/25/22 01:00  BTC/USD  38891.00000  39023.0000  38792.0   \n",
            "1      1.650840e+12  4/25/22 00:00  BTC/USD  39473.00000  39526.0000  38706.0   \n",
            "2      1.650840e+12  4/24/22 23:00  BTC/USD  39588.00000  39593.5856  39461.0   \n",
            "3      1.650840e+12  4/24/22 22:00  BTC/USD  39669.00000  39798.0000  39566.0   \n",
            "4      1.650830e+12  4/24/22 21:00  BTC/USD  39526.97773  39670.0000  39505.0   \n",
            "...             ...            ...      ...          ...         ...      ...   \n",
            "34522  1.526378e+09  5/15/18 10:00  BTC/USD   8708.10000   8855.7000   8695.8   \n",
            "34523  1.526375e+09  5/15/18 09:00  BTC/USD   8723.70000   8737.8000   8701.2   \n",
            "34524  1.526371e+09  5/15/18 08:00  BTC/USD   8743.00000   8743.1000   8653.2   \n",
            "34525  1.526368e+09  5/15/18 07:00  BTC/USD   8739.00000   8754.8000   8719.3   \n",
            "34526  1.526364e+09  5/15/18 06:00  BTC/USD   8723.80000   8793.0000   8714.9   \n",
            "\n",
            "             close    Volume USD   Volume BTC  \n",
            "0      38947.23344  3.316250e+06    85.147255  \n",
            "1      38890.29927  1.581402e+07   406.631387  \n",
            "2      39480.58124  2.732270e+06    69.205407  \n",
            "3      39588.00000  2.804386e+06    70.839290  \n",
            "4      39669.00000  6.064814e+06   152.885466  \n",
            "...            ...           ...          ...  \n",
            "34522   8784.40000  1.730972e+07  1969.080000  \n",
            "34523   8708.10000  2.054868e+06   235.550000  \n",
            "34524   8723.70000  8.891773e+06  1023.310000  \n",
            "34525   8743.00000  2.288904e+06   261.970000  \n",
            "34526   8739.00000  8.988054e+06  1026.350000  \n",
            "\n",
            "[34527 rows x 9 columns]\n"
          ]
        }
      ],
      "source": [
        "df = pd.read_csv('/content/drive/MyDrive/Colab Notebooks/Bitfinex_BTCUSD_1h.csv')\n",
        "\n",
        "print(f'Kiểu dữ liệu: \\n{df.dtypes}')\n",
        "print('-------------------------------------------------------------------------')\n",
        "print(f'Đếm số dòng dữ liệu bị null: \\n{df.isna().sum()}')\n",
        "print('-------------------------------------------------------------------------')\n",
        "print(f'Dữ liệu: \\n{df}')"
      ]
    },
    {
      "cell_type": "markdown",
      "metadata": {
        "id": "N4pqJz2-Ea3o"
      },
      "source": [
        "#Features engineering"
      ]
    },
    {
      "cell_type": "code",
      "source": [
        "# Xoá cột dữ liệu không dùng\n",
        "del df['unix'], df['symbol']\n",
        "\n",
        "# Dùng cột 'date' để làm index và chỉ lấy thông tin từ 2020 trở về nay\n",
        "df['date'] = pd.to_datetime(df['date'])\n",
        "df = df.sort_values(by=\"date\")\n",
        "df = df.loc[df['date'] >= '2020-01-01 00:00:00']\n",
        "df = df.set_index('date')\n",
        "\n",
        "# Sắp xếp các cột dữ liệu\n",
        "df = df[[\"open\", \"high\", \"low\", \"Volume USD\", \"Volume BTC\", \"close\"]]\n",
        "\n",
        "print(df)"
      ],
      "metadata": {
        "colab": {
          "base_uri": "https://localhost:8080/"
        },
        "id": "XPvZSnFciRrU",
        "outputId": "f7d66197-58c0-422a-a22f-8857e5aa2b69"
      },
      "execution_count": null,
      "outputs": [
        {
          "output_type": "stream",
          "name": "stdout",
          "text": [
            "                            open        high      low    Volume USD  \\\n",
            "date                                                                  \n",
            "2020-01-01 00:00:00   7208.30000   7208.3000   7185.4  7.644562e+05   \n",
            "2020-01-01 01:00:00   7189.81000   7250.0000   7187.4  4.463800e+05   \n",
            "2020-01-01 02:00:00   7227.80000   7256.7000   7227.8  2.511332e+05   \n",
            "2020-01-01 03:00:00   7256.70000   7256.7000   7233.1  2.323107e+05   \n",
            "2020-01-01 04:00:00   7237.30000   7241.3000   7226.1  3.760059e+05   \n",
            "...                          ...         ...      ...           ...   \n",
            "2022-04-24 21:00:00  39526.97773  39670.0000  39505.0  6.064814e+06   \n",
            "2022-04-24 22:00:00  39669.00000  39798.0000  39566.0  2.804386e+06   \n",
            "2022-04-24 23:00:00  39588.00000  39593.5856  39461.0  2.732270e+06   \n",
            "2022-04-25 00:00:00  39473.00000  39526.0000  38706.0  1.581402e+07   \n",
            "2022-04-25 01:00:00  38891.00000  39023.0000  38792.0  3.316250e+06   \n",
            "\n",
            "                     Volume BTC        close  \n",
            "date                                          \n",
            "2020-01-01 00:00:00  106.250000   7189.81000  \n",
            "2020-01-01 01:00:00   61.750000   7227.80000  \n",
            "2020-01-01 02:00:00   34.660000   7256.70000  \n",
            "2020-01-01 03:00:00   32.080000   7237.30000  \n",
            "2020-01-01 04:00:00   51.990000   7226.10000  \n",
            "...                         ...          ...  \n",
            "2022-04-24 21:00:00  152.885466  39669.00000  \n",
            "2022-04-24 22:00:00   70.839290  39588.00000  \n",
            "2022-04-24 23:00:00   69.205407  39480.58124  \n",
            "2022-04-25 00:00:00  406.631387  38890.29927  \n",
            "2022-04-25 01:00:00   85.147255  38947.23344  \n",
            "\n",
            "[20230 rows x 6 columns]\n"
          ]
        }
      ]
    },
    {
      "cell_type": "markdown",
      "metadata": {
        "id": "BQ3-iwH4-zlY"
      },
      "source": [
        "#Train, Test split"
      ]
    },
    {
      "cell_type": "code",
      "execution_count": null,
      "metadata": {
        "colab": {
          "base_uri": "https://localhost:8080/"
        },
        "id": "2_7Rm-8TypOV",
        "outputId": "ba7a0092-1667-498d-9a80-fd75911965f9"
      },
      "outputs": [
        {
          "output_type": "stream",
          "name": "stdout",
          "text": [
            "(16183, 6)\n",
            "(4047, 6)\n"
          ]
        }
      ],
      "source": [
        "# We want 80% of the data to be used for training, and 20% for testing\n",
        "n_train_rows = int(df.shape[0]*train_size_percent)-1\n",
        "\n",
        "# Split into train and test sets but keep all 6 columns\n",
        "train = df.iloc[:n_train_rows, :]\n",
        "test = df.iloc[n_train_rows:, :]\n",
        "\n",
        "# The total rows of the two datasets should equal the total amount of rows in your CSV\n",
        "print(train.shape)\n",
        "print(test.shape)"
      ]
    },
    {
      "cell_type": "code",
      "source": [
        "train.tail()"
      ],
      "metadata": {
        "colab": {
          "base_uri": "https://localhost:8080/",
          "height": 237
        },
        "id": "iKP4lComxExm",
        "outputId": "ba6559c9-9441-459a-b1d2-f4e0e2d7fae4"
      },
      "execution_count": null,
      "outputs": [
        {
          "output_type": "execute_result",
          "data": {
            "text/plain": [
              "                            open         high          low   Volume USD  \\\n",
              "date                                                                      \n",
              "2021-11-05 06:00:00  62179.16501  62600.00000  62179.16501  8797504.976   \n",
              "2021-11-05 07:00:00  62217.00000  62495.00000  62138.00000  2611862.682   \n",
              "2021-11-05 08:00:00  62162.94015  62235.00000  62006.00000  4484213.176   \n",
              "2021-11-05 09:00:00  62235.00000  62254.00000  61571.00000  6837388.429   \n",
              "2021-11-05 10:00:00  61738.00000  61810.03988  61494.00000  2718893.925   \n",
              "\n",
              "                     Volume BTC        close  \n",
              "date                                          \n",
              "2021-11-05 06:00:00  141.425344  62206.00000  \n",
              "2021-11-05 07:00:00   42.017707  62161.00000  \n",
              "2021-11-05 08:00:00   72.073761  62217.00000  \n",
              "2021-11-05 09:00:00  110.780759  61720.00000  \n",
              "2021-11-05 10:00:00   44.138585  61599.02723  "
            ],
            "text/html": [
              "\n",
              "  <div id=\"df-bacf301d-148c-4a70-93f6-34ef7298bf6f\">\n",
              "    <div class=\"colab-df-container\">\n",
              "      <div>\n",
              "<style scoped>\n",
              "    .dataframe tbody tr th:only-of-type {\n",
              "        vertical-align: middle;\n",
              "    }\n",
              "\n",
              "    .dataframe tbody tr th {\n",
              "        vertical-align: top;\n",
              "    }\n",
              "\n",
              "    .dataframe thead th {\n",
              "        text-align: right;\n",
              "    }\n",
              "</style>\n",
              "<table border=\"1\" class=\"dataframe\">\n",
              "  <thead>\n",
              "    <tr style=\"text-align: right;\">\n",
              "      <th></th>\n",
              "      <th>open</th>\n",
              "      <th>high</th>\n",
              "      <th>low</th>\n",
              "      <th>Volume USD</th>\n",
              "      <th>Volume BTC</th>\n",
              "      <th>close</th>\n",
              "    </tr>\n",
              "    <tr>\n",
              "      <th>date</th>\n",
              "      <th></th>\n",
              "      <th></th>\n",
              "      <th></th>\n",
              "      <th></th>\n",
              "      <th></th>\n",
              "      <th></th>\n",
              "    </tr>\n",
              "  </thead>\n",
              "  <tbody>\n",
              "    <tr>\n",
              "      <th>2021-11-05 06:00:00</th>\n",
              "      <td>62179.16501</td>\n",
              "      <td>62600.00000</td>\n",
              "      <td>62179.16501</td>\n",
              "      <td>8797504.976</td>\n",
              "      <td>141.425344</td>\n",
              "      <td>62206.00000</td>\n",
              "    </tr>\n",
              "    <tr>\n",
              "      <th>2021-11-05 07:00:00</th>\n",
              "      <td>62217.00000</td>\n",
              "      <td>62495.00000</td>\n",
              "      <td>62138.00000</td>\n",
              "      <td>2611862.682</td>\n",
              "      <td>42.017707</td>\n",
              "      <td>62161.00000</td>\n",
              "    </tr>\n",
              "    <tr>\n",
              "      <th>2021-11-05 08:00:00</th>\n",
              "      <td>62162.94015</td>\n",
              "      <td>62235.00000</td>\n",
              "      <td>62006.00000</td>\n",
              "      <td>4484213.176</td>\n",
              "      <td>72.073761</td>\n",
              "      <td>62217.00000</td>\n",
              "    </tr>\n",
              "    <tr>\n",
              "      <th>2021-11-05 09:00:00</th>\n",
              "      <td>62235.00000</td>\n",
              "      <td>62254.00000</td>\n",
              "      <td>61571.00000</td>\n",
              "      <td>6837388.429</td>\n",
              "      <td>110.780759</td>\n",
              "      <td>61720.00000</td>\n",
              "    </tr>\n",
              "    <tr>\n",
              "      <th>2021-11-05 10:00:00</th>\n",
              "      <td>61738.00000</td>\n",
              "      <td>61810.03988</td>\n",
              "      <td>61494.00000</td>\n",
              "      <td>2718893.925</td>\n",
              "      <td>44.138585</td>\n",
              "      <td>61599.02723</td>\n",
              "    </tr>\n",
              "  </tbody>\n",
              "</table>\n",
              "</div>\n",
              "      <button class=\"colab-df-convert\" onclick=\"convertToInteractive('df-bacf301d-148c-4a70-93f6-34ef7298bf6f')\"\n",
              "              title=\"Convert this dataframe to an interactive table.\"\n",
              "              style=\"display:none;\">\n",
              "        \n",
              "  <svg xmlns=\"http://www.w3.org/2000/svg\" height=\"24px\"viewBox=\"0 0 24 24\"\n",
              "       width=\"24px\">\n",
              "    <path d=\"M0 0h24v24H0V0z\" fill=\"none\"/>\n",
              "    <path d=\"M18.56 5.44l.94 2.06.94-2.06 2.06-.94-2.06-.94-.94-2.06-.94 2.06-2.06.94zm-11 1L8.5 8.5l.94-2.06 2.06-.94-2.06-.94L8.5 2.5l-.94 2.06-2.06.94zm10 10l.94 2.06.94-2.06 2.06-.94-2.06-.94-.94-2.06-.94 2.06-2.06.94z\"/><path d=\"M17.41 7.96l-1.37-1.37c-.4-.4-.92-.59-1.43-.59-.52 0-1.04.2-1.43.59L10.3 9.45l-7.72 7.72c-.78.78-.78 2.05 0 2.83L4 21.41c.39.39.9.59 1.41.59.51 0 1.02-.2 1.41-.59l7.78-7.78 2.81-2.81c.8-.78.8-2.07 0-2.86zM5.41 20L4 18.59l7.72-7.72 1.47 1.35L5.41 20z\"/>\n",
              "  </svg>\n",
              "      </button>\n",
              "      \n",
              "  <style>\n",
              "    .colab-df-container {\n",
              "      display:flex;\n",
              "      flex-wrap:wrap;\n",
              "      gap: 12px;\n",
              "    }\n",
              "\n",
              "    .colab-df-convert {\n",
              "      background-color: #E8F0FE;\n",
              "      border: none;\n",
              "      border-radius: 50%;\n",
              "      cursor: pointer;\n",
              "      display: none;\n",
              "      fill: #1967D2;\n",
              "      height: 32px;\n",
              "      padding: 0 0 0 0;\n",
              "      width: 32px;\n",
              "    }\n",
              "\n",
              "    .colab-df-convert:hover {\n",
              "      background-color: #E2EBFA;\n",
              "      box-shadow: 0px 1px 2px rgba(60, 64, 67, 0.3), 0px 1px 3px 1px rgba(60, 64, 67, 0.15);\n",
              "      fill: #174EA6;\n",
              "    }\n",
              "\n",
              "    [theme=dark] .colab-df-convert {\n",
              "      background-color: #3B4455;\n",
              "      fill: #D2E3FC;\n",
              "    }\n",
              "\n",
              "    [theme=dark] .colab-df-convert:hover {\n",
              "      background-color: #434B5C;\n",
              "      box-shadow: 0px 1px 3px 1px rgba(0, 0, 0, 0.15);\n",
              "      filter: drop-shadow(0px 1px 2px rgba(0, 0, 0, 0.3));\n",
              "      fill: #FFFFFF;\n",
              "    }\n",
              "  </style>\n",
              "\n",
              "      <script>\n",
              "        const buttonEl =\n",
              "          document.querySelector('#df-bacf301d-148c-4a70-93f6-34ef7298bf6f button.colab-df-convert');\n",
              "        buttonEl.style.display =\n",
              "          google.colab.kernel.accessAllowed ? 'block' : 'none';\n",
              "\n",
              "        async function convertToInteractive(key) {\n",
              "          const element = document.querySelector('#df-bacf301d-148c-4a70-93f6-34ef7298bf6f');\n",
              "          const dataTable =\n",
              "            await google.colab.kernel.invokeFunction('convertToInteractive',\n",
              "                                                     [key], {});\n",
              "          if (!dataTable) return;\n",
              "\n",
              "          const docLinkHtml = 'Like what you see? Visit the ' +\n",
              "            '<a target=\"_blank\" href=https://colab.research.google.com/notebooks/data_table.ipynb>data table notebook</a>'\n",
              "            + ' to learn more about interactive tables.';\n",
              "          element.innerHTML = '';\n",
              "          dataTable['output_type'] = 'display_data';\n",
              "          await google.colab.output.renderOutput(dataTable, element);\n",
              "          const docLink = document.createElement('div');\n",
              "          docLink.innerHTML = docLinkHtml;\n",
              "          element.appendChild(docLink);\n",
              "        }\n",
              "      </script>\n",
              "    </div>\n",
              "  </div>\n",
              "  "
            ]
          },
          "metadata": {},
          "execution_count": 6
        }
      ]
    },
    {
      "cell_type": "markdown",
      "metadata": {
        "id": "yD0uEqHX1zVd"
      },
      "source": [
        "#Normalise features"
      ]
    },
    {
      "cell_type": "code",
      "execution_count": null,
      "metadata": {
        "id": "kNbU3JoR118d",
        "colab": {
          "base_uri": "https://localhost:8080/"
        },
        "outputId": "f27db0a1-a850-4a04-f33f-828eef4f0db5"
      },
      "outputs": [
        {
          "output_type": "stream",
          "name": "stdout",
          "text": [
            "[[4.64479913e-02 4.09019259e-02 5.10949891e-02 1.57017826e-03\n",
            "  4.40795099e-03 4.61522838e-02]\n",
            " [4.61522838e-02 4.15712914e-02 5.11270698e-02 9.16856013e-04\n",
            "  2.56179740e-03 4.67598516e-02]\n",
            " [4.67598516e-02 4.16788394e-02 5.17751007e-02 5.15822843e-04\n",
            "  1.43792547e-03 4.72220445e-02]\n",
            " ...\n",
            " [9.25328495e-01 9.24186729e-01 9.30437601e-01 9.21048758e-03\n",
            "  2.99009511e-03 9.26193066e-01]\n",
            " [9.26480937e-01 9.24491716e-01 9.23460041e-01 1.40438643e-02\n",
            "  4.59591675e-03 9.18244626e-01]\n",
            " [9.18532497e-01 9.17365298e-01 9.22224933e-01 5.58455581e-03\n",
            "  1.83115973e-03 9.16309929e-01]]\n"
          ]
        }
      ],
      "source": [
        "sc = MinMaxScaler(feature_range = (0, 1))\n",
        "training_set_scaled = sc.fit_transform(train.values)\n",
        "test_set_scaled = sc.fit_transform(test.values)\n",
        "\n",
        "print(training_set_scaled)"
      ]
    },
    {
      "cell_type": "markdown",
      "metadata": {
        "id": "icMoEzbf_TgC"
      },
      "source": [
        "#Prepare data"
      ]
    },
    {
      "cell_type": "code",
      "execution_count": null,
      "metadata": {
        "colab": {
          "base_uri": "https://localhost:8080/"
        },
        "id": "-fL8fQy_QL9k",
        "outputId": "e6e5891d-aea1-4408-d7ae-cebbfd834385"
      },
      "outputs": [
        {
          "output_type": "stream",
          "name": "stdout",
          "text": [
            "x_train: (14743, 1440, 6)\n",
            "y_train: (14743, 6)\n",
            "x_test: (2607, 1440, 6)\n",
            "y_test: (2607, 6)\n"
          ]
        }
      ],
      "source": [
        "def create_dataset(dataset, n_step=50):\n",
        "  dataX, dataY = [], []\n",
        "  for i in range(n_step, len(dataset)):\n",
        "    dataX.append(dataset[i-n_step:i, :])\n",
        "    dataY.append(dataset[i])\n",
        "  return np.array(dataX), np.array(dataY)\n",
        "\n",
        "x_train, y_train = create_dataset(training_set_scaled, n_step=n_step)\n",
        "x_test, y_test = create_dataset(test_set_scaled, n_step=n_step)\n",
        "\n",
        "print(f'x_train: {x_train.shape}')\n",
        "print(f'y_train: {y_train.shape}')\n",
        "print(f'x_test: {x_test.shape}')\n",
        "print(f'y_test: {y_test.shape}')"
      ]
    },
    {
      "cell_type": "markdown",
      "metadata": {
        "id": "JHl7ruV6tqgg"
      },
      "source": [
        "#Model LSTM"
      ]
    },
    {
      "cell_type": "code",
      "execution_count": null,
      "metadata": {
        "colab": {
          "base_uri": "https://localhost:8080/"
        },
        "id": "TcKKuCKetm8R",
        "outputId": "08e4ae1f-aca6-4086-c566-8a087af71e1a"
      },
      "outputs": [
        {
          "output_type": "stream",
          "name": "stdout",
          "text": [
            "Epoch 1/5\n",
            "461/461 [==============================] - 41s 77ms/step - loss: 0.0095\n",
            "Epoch 2/5\n",
            "461/461 [==============================] - 35s 77ms/step - loss: 0.0033\n",
            "Epoch 3/5\n",
            "461/461 [==============================] - 35s 76ms/step - loss: 0.0023\n",
            "Epoch 4/5\n",
            "461/461 [==============================] - 35s 76ms/step - loss: 0.0019\n",
            "Epoch 5/5\n",
            "461/461 [==============================] - 35s 76ms/step - loss: 0.0017\n"
          ]
        }
      ],
      "source": [
        "model = Sequential()\n",
        "model.add(LSTM(units=64, return_sequences = True, input_shape = (n_step, 6)))\n",
        "model.add(Dropout(0.3))\n",
        "model.add(LSTM(units=32))\n",
        "model.add(Dropout(0.3))\n",
        "model.add(Dense(units=6))\n",
        "\n",
        "model.compile(loss=\"mse\", optimizer=\"adam\")\n",
        "history = model.fit(x_train, y_train, batch_size=batch_size, epochs=5)"
      ]
    },
    {
      "cell_type": "markdown",
      "source": [
        "# Predict values from test data trained using training data"
      ],
      "metadata": {
        "id": "YjWmcQ5ToIN6"
      }
    },
    {
      "cell_type": "code",
      "execution_count": null,
      "metadata": {
        "id": "ML6Rxk7juI2Q"
      },
      "outputs": [],
      "source": [
        "y_hat = model.predict(x_test)\n",
        "y_hat = sc.inverse_transform(y_hat)"
      ]
    },
    {
      "cell_type": "code",
      "execution_count": null,
      "metadata": {
        "colab": {
          "base_uri": "https://localhost:8080/",
          "height": 553
        },
        "id": "8RekH9Egu9Tp",
        "outputId": "005755bb-1f05-4cf1-9411-0ab44f82562a"
      },
      "outputs": [
        {
          "output_type": "display_data",
          "data": {
            "text/plain": [
              "<Figure size 1296x648 with 1 Axes>"
            ],
            "image/png": "[encoded data removed]"
          },
          "metadata": {
            "needs_background": "light"
          }
        }
      ],
      "source": [
        "y_test = test[n_step:].reset_index(drop=True)\n",
        "\n",
        "plt.figure(figsize = (18,9))\n",
        "plt.plot(y_test['close'], color = 'red', label = 'y_test')\n",
        "plt.plot(y_hat[:,0], color = 'blue', label = 'y_hat')\n",
        "plt.title('y_hat[\"close\"] vs y_test[\"close\"]')\n",
        "plt.ylabel('close')\n",
        "plt.legend()\n",
        "plt.show()"
      ]
    }
  ],
  "metadata": {
    "accelerator": "GPU",
    "colab": {
      "name": "BTC_Price.ipynb",
      "provenance": []
    },
    "kernelspec": {
      "display_name": "Python 3",
      "name": "python3"
    },
    "language_info": {
      "name": "python"
    }
  },
  "nbformat": 4,
  "nbformat_minor": 0
}